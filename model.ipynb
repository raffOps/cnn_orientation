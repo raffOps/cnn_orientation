{
 "cells": [
  {
   "cell_type": "code",
   "execution_count": 37,
   "metadata": {},
   "outputs": [],
   "source": [
    "import pandas as pd\n",
    "import numpy as np\n",
    "from tensorflow.keras.utils import to_categorical, Sequence\n",
    "from tensorflow.keras.layers import Dropout, Conv2D,  MaxPooling2D, Dense, Flatten, Activation, BatchNormalization\n",
    "from tensorflow.keras import Sequential, optimizers\n",
    "from tensorflow.keras.regularizers import l2\n",
    "from tensorflow import config\n",
    "from skimage.io import imread, imsave\n",
    "from skimage.transform import resize, rotate\n",
    "from sklearn.model_selection import train_test_split\n",
    "import seaborn as sns\n",
    "import math\n",
    "from os.path import join\n",
    "from sklearn.ev"
   ]
  },
  {
   "cell_type": "code",
   "execution_count": 2,
   "metadata": {},
   "outputs": [
    {
     "name": "stdout",
     "output_type": "stream",
     "text": [
      "GPU is available\n"
     ]
    }
   ],
   "source": [
    "print(\"GPU is\", \"available\" if config.list_physical_devices('GPU') else \"NOT AVAILABLE\")"
   ]
  },
  {
   "cell_type": "code",
   "execution_count": 69,
   "metadata": {},
   "outputs": [
    {
     "data": {
      "text/html": [
       "<div>\n",
       "<style scoped>\n",
       "    .dataframe tbody tr th:only-of-type {\n",
       "        vertical-align: middle;\n",
       "    }\n",
       "\n",
       "    .dataframe tbody tr th {\n",
       "        vertical-align: top;\n",
       "    }\n",
       "\n",
       "    .dataframe thead th {\n",
       "        text-align: right;\n",
       "    }\n",
       "</style>\n",
       "<table border=\"1\" class=\"dataframe\">\n",
       "  <thead>\n",
       "    <tr style=\"text-align: right;\">\n",
       "      <th></th>\n",
       "      <th>fn</th>\n",
       "      <th>label_rotated_left</th>\n",
       "      <th>label_rotated_right</th>\n",
       "      <th>label_upright</th>\n",
       "      <th>label_upside_down</th>\n",
       "    </tr>\n",
       "  </thead>\n",
       "  <tbody>\n",
       "    <tr>\n",
       "      <th>0</th>\n",
       "      <td>down_left86-28987586_1917-03-28_1948.jpg</td>\n",
       "      <td>1</td>\n",
       "      <td>0</td>\n",
       "      <td>0</td>\n",
       "      <td>0</td>\n",
       "    </tr>\n",
       "    <tr>\n",
       "      <th>1</th>\n",
       "      <td>left_down60-17051360_1988-08-04_2011.jpg</td>\n",
       "      <td>0</td>\n",
       "      <td>0</td>\n",
       "      <td>0</td>\n",
       "      <td>1</td>\n",
       "    </tr>\n",
       "    <tr>\n",
       "      <th>2</th>\n",
       "      <td>63-33314263_1984-06-21_2009.jpg</td>\n",
       "      <td>0</td>\n",
       "      <td>1</td>\n",
       "      <td>0</td>\n",
       "      <td>0</td>\n",
       "    </tr>\n",
       "    <tr>\n",
       "      <th>3</th>\n",
       "      <td>right_left14-6093414_1980-11-03_2013.jpg</td>\n",
       "      <td>1</td>\n",
       "      <td>0</td>\n",
       "      <td>0</td>\n",
       "      <td>0</td>\n",
       "    </tr>\n",
       "    <tr>\n",
       "      <th>4</th>\n",
       "      <td>54-1421654_1933-08-27_2011.jpg</td>\n",
       "      <td>0</td>\n",
       "      <td>0</td>\n",
       "      <td>1</td>\n",
       "      <td>0</td>\n",
       "    </tr>\n",
       "  </tbody>\n",
       "</table>\n",
       "</div>"
      ],
      "text/plain": [
       "                                         fn  label_rotated_left  \\\n",
       "0  down_left86-28987586_1917-03-28_1948.jpg                   1   \n",
       "1  left_down60-17051360_1988-08-04_2011.jpg                   0   \n",
       "2           63-33314263_1984-06-21_2009.jpg                   0   \n",
       "3  right_left14-6093414_1980-11-03_2013.jpg                   1   \n",
       "4            54-1421654_1933-08-27_2011.jpg                   0   \n",
       "\n",
       "   label_rotated_right  label_upright  label_upside_down  \n",
       "0                    0              0                  0  \n",
       "1                    0              0                  1  \n",
       "2                    1              0                  0  \n",
       "3                    0              0                  0  \n",
       "4                    0              1                  0  "
      ]
     },
     "execution_count": 69,
     "metadata": {},
     "output_type": "execute_result"
    }
   ],
   "source": [
    "df = pd.read_csv(\"data/name_images.csv\", index_col=0)\n",
    "df = pd.get_dummies(df, columns=[\"label\"])\n",
    "df.head()"
   ]
  },
  {
   "cell_type": "code",
   "execution_count": 70,
   "metadata": {},
   "outputs": [],
   "source": [
    "X = df.fn.values\n",
    "Y = df[['label_rotated_left', 'label_rotated_right', 'label_upright', 'label_upside_down']].values\n",
    "\n",
    "x, x_test, y, y_test = train_test_split(X, Y, test_size=0.1)\n",
    "x_train, x_val, y_train, y_val = train_test_split(x, y, test_size=0.12)"
   ]
  },
  {
   "cell_type": "code",
   "execution_count": 71,
   "metadata": {},
   "outputs": [],
   "source": [
    "class BatchGenerator(Sequence) :\n",
    "  \n",
    "        def __init__(self, x_set, y_set, batch_size):\n",
    "            self.x, self.y = x_set, y_set\n",
    "            self.batch_size = batch_size\n",
    "\n",
    "        def __len__(self):\n",
    "            return math.ceil(len(self.x) / self.batch_size)\n",
    "\n",
    "        def __getitem__(self, idx):\n",
    "            batch_x = self.x[idx * self.batch_size:(idx + 1) * self.batch_size]\n",
    "            batch_y = self.y[idx * self.batch_size:(idx + 1) * self.batch_size]\n",
    "\n",
    "            return np.array([imread(join(\"data\",\"images\",file_name))\n",
    "                   for file_name in batch_x]), np.array(batch_y)"
   ]
  },
  {
   "cell_type": "code",
   "execution_count": 72,
   "metadata": {},
   "outputs": [],
   "source": [
    "def create_model(learning_rate=0.0001, beta_1=0.80, activation=\"relu\", filters=[32, 32, 64, 64, 512], init_mode='glorot_uniform'):\n",
    "    model = Sequential()\n",
    "    model.add(Conv2D(filters[0], (3,3), input_shape=(64,64,3), padding=\"same\"))\n",
    "    model.add(Activation(activation))\n",
    "    \n",
    "    model.add(Conv2D(filters[1], (3, 3), padding=\"same\"))\n",
    "    model.add(Activation(activation))\n",
    "    model.add(MaxPooling2D(pool_size=(2, 2)))\n",
    "    #model.add(Dropout(0.25))\n",
    "\n",
    "    model.add(Conv2D(filters[2], (3, 3)))\n",
    "    model.add(Activation(activation))\n",
    "    model.add(Conv2D(filters[3], (3, 3)))\n",
    "    model.add(Activation(activation))\n",
    "    model.add(MaxPooling2D(pool_size=(2, 2)))\n",
    "    #model.add(Dropout(0.25))\n",
    "    \n",
    "    model.add(Flatten())\n",
    "    model.add(Dense(filters[4], kernel_regularizer=l2(0.1)))\n",
    "    model.add(Activation(activation))\n",
    "    model.add(Dropout(0.25))\n",
    "    model.add(Dense(4))\n",
    "    model.add(Activation('softmax'))\n",
    "\n",
    "    opt = optimizers.Adam(learning_rate=learning_rate, decay=1e-6, beta_1=beta_1)\n",
    "\n",
    "    model.compile(loss='categorical_crossentropy', optimizer=opt,\n",
    "                 metrics=['accuracy'])\n",
    "    \n",
    "    return model"
   ]
  },
  {
   "cell_type": "code",
   "execution_count": 73,
   "metadata": {},
   "outputs": [],
   "source": [
    "batch_size = 512\n",
    "val_batch_generator = BatchGenerator(x_val, y_val, batch_size=batch_size)\n",
    "train_batch_generator = BatchGenerator(x_train, y_train, batch_size=batch_size)\n",
    "test_batch_generator = BatchGenerator(x_test, y_test, batch_size=batch_size)"
   ]
  },
  {
   "cell_type": "code",
   "execution_count": 74,
   "metadata": {},
   "outputs": [],
   "source": [
    "model = create_model(beta_1=0.8, filters=[32, 32, 32, 64, 512])"
   ]
  },
  {
   "cell_type": "code",
   "execution_count": 75,
   "metadata": {},
   "outputs": [
    {
     "name": "stdout",
     "output_type": "stream",
     "text": [
      "WARNING:tensorflow:sample_weight modes were coerced from\n",
      "  ...\n",
      "    to  \n",
      "  ['...']\n",
      "Train for 303 steps\n",
      "Epoch 1/10\n",
      "303/303 [==============================] - 651s 2s/step - loss: 54.5827 - accuracy: 0.7454\n",
      "Epoch 2/10\n",
      "303/303 [==============================] - 93s 306ms/step - loss: 23.8853 - accuracy: 0.9012\n",
      "Epoch 3/10\n",
      "303/303 [==============================] - 95s 313ms/step - loss: 14.4967 - accuracy: 0.9358\n",
      "Epoch 4/10\n",
      "303/303 [==============================] - 105s 347ms/step - loss: 9.2274 - accuracy: 0.9496\n",
      "Epoch 5/10\n",
      "303/303 [==============================] - 109s 361ms/step - loss: 5.9605 - accuracy: 0.9594\n",
      "Epoch 6/10\n",
      "303/303 [==============================] - 112s 369ms/step - loss: 3.8626 - accuracy: 0.9655\n",
      "Epoch 7/10\n",
      "303/303 [==============================] - 108s 355ms/step - loss: 2.4933 - accuracy: 0.9690\n",
      "Epoch 8/10\n",
      "303/303 [==============================] - 99s 328ms/step - loss: 1.6026 - accuracy: 0.9716\n",
      "Epoch 9/10\n",
      "303/303 [==============================] - 110s 364ms/step - loss: 1.0255 - accuracy: 0.9738\n",
      "Epoch 10/10\n",
      "303/303 [==============================] - 112s 369ms/step - loss: 0.6587 - accuracy: 0.9754\n"
     ]
    },
    {
     "data": {
      "text/plain": [
       "<tensorflow.python.keras.callbacks.History at 0x1ac2d0fae08>"
      ]
     },
     "execution_count": 75,
     "metadata": {},
     "output_type": "execute_result"
    }
   ],
   "source": [
    "model.fit(x=train_batch_generator, verbose=1, epochs=10)"
   ]
  },
  {
   "cell_type": "code",
   "execution_count": 76,
   "metadata": {},
   "outputs": [
    {
     "name": "stdout",
     "output_type": "stream",
     "text": [
      "WARNING:tensorflow:sample_weight modes were coerced from\n",
      "  ...\n",
      "    to  \n",
      "  ['...']\n",
      "42/42 [==============================] - 90s 2s/step - loss: 0.5177 - accuracy: 0.9774\n"
     ]
    },
    {
     "data": {
      "text/plain": [
       "[0.5177185918603625, 0.977418]"
      ]
     },
     "execution_count": 76,
     "metadata": {},
     "output_type": "execute_result"
    }
   ],
   "source": [
    "model.evaluate(x=val_batch_generator)"
   ]
  },
  {
   "cell_type": "code",
   "execution_count": 77,
   "metadata": {},
   "outputs": [
    {
     "name": "stdout",
     "output_type": "stream",
     "text": [
      "WARNING:tensorflow:sample_weight modes were coerced from\n",
      "  ...\n",
      "    to  \n",
      "  ['...']\n",
      "39/39 [==============================] - 82s 2s/step - loss: 0.5156 - accuracy: 0.9788\n"
     ]
    },
    {
     "data": {
      "text/plain": [
       "[0.515584218960542, 0.97883326]"
      ]
     },
     "execution_count": 77,
     "metadata": {},
     "output_type": "execute_result"
    }
   ],
   "source": [
    "model.evaluate(x=test_batch_generator)"
   ]
  },
  {
   "cell_type": "code",
   "execution_count": 78,
   "metadata": {},
   "outputs": [],
   "source": [
    "y_test_predict = np.argmax(model.predict(x=test_batch_generator), axis=1)"
   ]
  },
  {
   "cell_type": "code",
   "execution_count": 79,
   "metadata": {},
   "outputs": [],
   "source": [
    "def rotate_image(images, orientations):\n",
    "    for image_name, orientation in zip(images, orientations):\n",
    "        image = imread(join(\"data\", \"images\", image_name))\n",
    "        if orientation == 0:\n",
    "            image = rotate(image, -90, preserve_range=True).astype(np.uint8)\n",
    "        elif orientation == 1:\n",
    "            image = rotate(image, 90, preserve_range=True).astype(np.uint8)\n",
    "        elif orientation == 3:\n",
    "            image = rotate(image, 180, preserve_range=True).astype(np.uint8)\n",
    "            \n",
    "            \n",
    "        imsave((join(\"data\",\"test\", image_name)), image)"
   ]
  },
  {
   "cell_type": "code",
   "execution_count": 81,
   "metadata": {},
   "outputs": [],
   "source": [
    "import warnings\n",
    "warnings.filterwarnings(\"ignore\")"
   ]
  },
  {
   "cell_type": "markdown",
   "metadata": {},
   "source": [
    "# Folder \"data/test\" must be empty to run the cell bellow!"
   ]
  },
  {
   "cell_type": "code",
   "execution_count": 84,
   "metadata": {},
   "outputs": [],
   "source": [
    "rotate_image(x_test, y_test_predict)"
   ]
  },
  {
   "cell_type": "code",
   "execution_count": 85,
   "metadata": {},
   "outputs": [
    {
     "name": "stdout",
     "output_type": "stream",
     "text": [
      "WARNING:tensorflow:From C:\\Users\\Rafa\\Miniconda3\\envs\\tf2\\lib\\site-packages\\tensorflow_core\\python\\ops\\resource_variable_ops.py:1786: calling BaseResourceVariable.__init__ (from tensorflow.python.ops.resource_variable_ops) with constraint is deprecated and will be removed in a future version.\n",
      "Instructions for updating:\n",
      "If using Keras pass *_constraint arguments to layers.\n",
      "INFO:tensorflow:Assets written to: model\\assets\n"
     ]
    }
   ],
   "source": [
    "model.save(\"model\")"
   ]
  },
  {
   "cell_type": "code",
   "execution_count": null,
   "metadata": {},
   "outputs": [],
   "source": []
  }
 ],
 "metadata": {
  "kernelspec": {
   "display_name": "Python 3",
   "language": "python",
   "name": "python3"
  },
  "language_info": {
   "codemirror_mode": {
    "name": "ipython",
    "version": 3
   },
   "file_extension": ".py",
   "mimetype": "text/x-python",
   "name": "python",
   "nbconvert_exporter": "python",
   "pygments_lexer": "ipython3",
   "version": "3.7.7"
  }
 },
 "nbformat": 4,
 "nbformat_minor": 4
}
